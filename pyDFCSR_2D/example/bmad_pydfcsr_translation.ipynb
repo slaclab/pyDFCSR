{
 "cells": [
  {
   "cell_type": "markdown",
   "id": "e743b5b1-c6b0-4bda-a85d-a032c0cd7ac3",
   "metadata": {},
   "source": [
    "# Bmad <-> pyDFCSR 2D "
   ]
  },
  {
   "cell_type": "code",
   "execution_count": 1,
   "id": "e894e598-afc4-41e9-9253-837ee464f3a7",
   "metadata": {},
   "outputs": [],
   "source": [
    "from pytao import Tao\n",
    "import yaml"
   ]
  },
  {
   "cell_type": "code",
   "execution_count": 2,
   "id": "b2136f15-8ebd-4896-abb9-c53f7e798bac",
   "metadata": {},
   "outputs": [
    {
     "data": {
      "text/plain": [
       "[{'type': 'dipole',\n",
       "  'L': 0.5002,\n",
       "  'angle': 0.0483,\n",
       "  'E1': 0.0,\n",
       "  'E2': 0.0483,\n",
       "  'nsep': 1,\n",
       "  'name': 'B1'},\n",
       " {'type': 'drift', 'L': 5.0058, 'nsep': 5, 'name': 'D1'},\n",
       " {'type': 'dipole',\n",
       "  'L': 0.5002,\n",
       "  'angle': -0.0483,\n",
       "  'E1': -0.0483,\n",
       "  'E2': 0.0,\n",
       "  'nsep': 1,\n",
       "  'name': 'B2'},\n",
       " {'type': 'drift', 'L': 1.0, 'nsep': 1, 'name': 'D2'},\n",
       " {'type': 'dipole',\n",
       "  'L': 0.5002,\n",
       "  'angle': -0.0483,\n",
       "  'E1': 0.0,\n",
       "  'E2': -0.0483,\n",
       "  'nsep': 1,\n",
       "  'name': 'B3'},\n",
       " {'type': 'drift', 'L': 5.0058, 'nsep': 5, 'name': 'D3'},\n",
       " {'type': 'dipole',\n",
       "  'L': 0.5002,\n",
       "  'angle': 0.0483,\n",
       "  'E1': 0.0483,\n",
       "  'E2': 0,\n",
       "  'nsep': 1,\n",
       "  'name': 'B4'},\n",
       " {'type': 'drift', 'L': 0.2, 'nsep': 1, 'name': 'Df'}]"
      ]
     },
     "execution_count": 2,
     "metadata": {},
     "output_type": "execute_result"
    }
   ],
   "source": [
    "def load_pydfcsr_eles(yamlfile):\n",
    "    d = yaml.safe_load(open(yamlfile))\n",
    "    eles = []\n",
    "    param = {}\n",
    "    for name, ele in d.items():\n",
    "        if isinstance(ele, dict):\n",
    "            eles.append(ele)\n",
    "            ele['name'] = name\n",
    "        else:\n",
    "            param[name] = ele\n",
    "    return eles\n",
    "\n",
    "eles = load_pydfcsr_eles('input/chicane_lattice.yaml')\n",
    "\n",
    "eles"
   ]
  },
  {
   "cell_type": "markdown",
   "id": "28a0bf63-cfc1-4881-8115-9073d61c40cc",
   "metadata": {},
   "source": [
    "# Bmad from PyDFCSR eles "
   ]
  },
  {
   "cell_type": "code",
   "execution_count": 3,
   "id": "09c63fe5-7ed2-472c-a6fe-be24cf9ffe37",
   "metadata": {},
   "outputs": [],
   "source": [
    "def bmad_line_from_pydfcsr_ele(ele):\n",
    "    type = ele['type']\n",
    "    L = ele['L'] \n",
    "    name = ele['name']\n",
    "    attribs = {}\n",
    "    if type == 'dipole':\n",
    "        e1 = ele.get('E1', None)\n",
    "        key = 'sbend'\n",
    "        attribs['angle'] = ele['angle']\n",
    "        attribs['e1'] = ele.get('E1', 0)\n",
    "        attribs['e2'] = ele.get('E2', 0)\n",
    "    elif type == 'drift':\n",
    "        key = 'drift'\n",
    "    elif type == 'quad':\n",
    "        key = 'quadrupole'\n",
    "    else:\n",
    "        raise NotImplementedError(type)\n",
    "\n",
    "    \n",
    "    line = f'{name}: {key}, L = {L}'\n",
    "    for k, v in attribs.items():\n",
    "        line = f'{line}, {k}={v}'\n",
    "    return line"
   ]
  },
  {
   "cell_type": "code",
   "execution_count": 4,
   "id": "6b5ea594-7c36-4401-bfe7-27b09599f4da",
   "metadata": {},
   "outputs": [],
   "source": [
    "def lat_line(eles, name='lat'):\n",
    "    names = [ele['name'] for ele in eles]\n",
    "    return f'{name}: line = (' + (', '.join(names)) + ')'\n",
    "\n",
    "def bmad_lattice_from__pydfcsr_eles(eles,\n",
    "                                   e_tot = 10e6,\n",
    "                                   filename = None\n",
    "                                   ):\n",
    "    beles = list(map(bmad_line_from_pydfcsr_ele, eles))\n",
    "\n",
    "    header = f\"\"\"\n",
    "beginning[beta_a] = 10\n",
    "beginning[beta_b] = 10\n",
    "beginning[e_tot] = 100e6\n",
    "parameter[geometry] = open\n",
    "parameter[particle] = electron\n",
    "\n",
    "    \"\"\"\n",
    "    latlines = header \n",
    "    latlines = latlines + '\\n'.join(beles) + '\\n'\n",
    "    latlines = latlines + lat_line(eles)\n",
    "    latline = latlines + '\\nuse, lat'\n",
    "    return latlines\n",
    "\n",
    "    if filename:\n",
    "        with open(filename, 'w') as f:\n",
    "            for line in latlines:\n",
    "                f.write(line)\n",
    "        "
   ]
  },
  {
   "cell_type": "code",
   "execution_count": 5,
   "id": "9d4047cf-55b4-4bbb-8f16-5c111b374a2d",
   "metadata": {},
   "outputs": [
    {
     "data": {
      "text/plain": [
       "'\\nbeginning[beta_a] = 10\\nbeginning[beta_b] = 10\\nbeginning[e_tot] = 100e6\\nparameter[geometry] = open\\nparameter[particle] = electron\\n\\n    B1: sbend, L = 0.5002, angle=0.0483, e1=0.0, e2=0.0483\\nD1: drift, L = 5.0058\\nB2: sbend, L = 0.5002, angle=-0.0483, e1=-0.0483, e2=0.0\\nD2: drift, L = 1.0\\nB3: sbend, L = 0.5002, angle=-0.0483, e1=0.0, e2=-0.0483\\nD3: drift, L = 5.0058\\nB4: sbend, L = 0.5002, angle=0.0483, e1=0.0483, e2=0\\nDf: drift, L = 0.2\\nlat: line = (B1, D1, B2, D2, B3, D3, B4, Df)'"
      ]
     },
     "execution_count": 5,
     "metadata": {},
     "output_type": "execute_result"
    }
   ],
   "source": [
    "bmad_lattice_from__pydfcsr_eles(eles, filename='lat.bmad')"
   ]
  },
  {
   "cell_type": "code",
   "execution_count": 6,
   "id": "b711d1d3-2a9f-47e2-b38a-dd318aa2b0c3",
   "metadata": {},
   "outputs": [
    {
     "name": "stdout",
     "output_type": "stream",
     "text": [
      "\n",
      "beginning[beta_a] = 10\n",
      "beginning[beta_b] = 10\n",
      "beginning[e_tot] = 100e6\n",
      "parameter[geometry] = open\n",
      "parameter[particle] = electron\n",
      "\n",
      "B1: sbend, L = 0.5002, angle=0.0483, e1=0.0, e2=0.0483\n",
      "D1: drift, L = 5.0058\n",
      "B2: sbend, L = 0.5002, angle=-0.0483, e1=-0.0483, e2=0.0\n",
      "D2: drift, L = 1.0\n",
      "B3: sbend, L = 0.5002, angle=-0.0483, e1=0.0, e2=-0.0483\n",
      "D3: drift, L = 5.0058\n",
      "B4: sbend, L = 0.5002, angle=0.0483, e1=0.0483, e2=0\n",
      "Df: drift, L = 0.2\n",
      "lat: line = (B1, D1, B2, D2, B3, D3, B4, Df)\n",
      "use, lat"
     ]
    }
   ],
   "source": [
    "!cat lat.bmad"
   ]
  },
  {
   "cell_type": "markdown",
   "id": "ab5906cc-b44c-4b4e-9286-f81d9bf938f2",
   "metadata": {},
   "source": [
    "# Run Tao"
   ]
  },
  {
   "cell_type": "code",
   "execution_count": 7,
   "id": "5a8c4fe8-7c2d-4949-b608-aa5c19839858",
   "metadata": {},
   "outputs": [],
   "source": [
    "tao = Tao('-lat lat.bmad -noplot')"
   ]
  },
  {
   "cell_type": "code",
   "execution_count": 8,
   "id": "e67cfd4b-ab4a-41ef-92c8-06d3fdfefb3d",
   "metadata": {},
   "outputs": [],
   "source": [
    "def pydfcsr_ele_from_tao_ele(ele):\n",
    "    \n",
    "    name = ele['name']\n",
    "    key = ele['key'].lower()\n",
    "    L = ele['L'] \n",
    "\n",
    "    dfele = {}\n",
    "    dfele['name'] = name\n",
    "    dfele['L'] = L\n",
    "    \n",
    "    if key == 'sbend':\n",
    "        type = 'sbend'\n",
    "        dfele['angle'] = ele['L'] * ele['G']\n",
    "        dfele['E1'] = ele.get('e1', 0)\n",
    "        dfele['E2'] = ele.get('e2', 0)\n",
    "    elif key == 'drift':\n",
    "        type = 'drift'\n",
    "    elif key == 'quadrupole':\n",
    "        type = 'quad'\n",
    "    else:\n",
    "        raise NotImplementedError(key)  \n",
    "\n",
    "    dfele['type'] = type\n",
    "    return dfele\n",
    "\n",
    "def pydfcsr_eles_from_tao(tao):\n",
    "\n",
    "    eles = []\n",
    "    for name in tao.lat_ele_list():\n",
    "        bele = tao.ele_head(name)\n",
    "        bele.update(tao.ele_gen_attribs(name))\n",
    "        key = bele['key']\n",
    "        if key.lower() in ('beginning_ele', 'marker' ):\n",
    "            continue    \n",
    "\n",
    "        ele = pydfcsr_ele_from_tao_ele(bele)\n",
    "        eles.append(ele)\n",
    "\n",
    "    return eles"
   ]
  },
  {
   "cell_type": "code",
   "execution_count": 9,
   "id": "59b8e387-6810-4a60-a860-824489970898",
   "metadata": {},
   "outputs": [
    {
     "data": {
      "text/plain": [
       "[{'name': 'B1',\n",
       "  'L': 0.5002,\n",
       "  'angle': 0.04830000000000002,\n",
       "  'E1': 0,\n",
       "  'E2': 0,\n",
       "  'type': 'sbend'},\n",
       " {'name': 'D1', 'L': 5.0058, 'type': 'drift'},\n",
       " {'name': 'B2',\n",
       "  'L': 0.5002,\n",
       "  'angle': -0.04830000000000002,\n",
       "  'E1': 0,\n",
       "  'E2': 0,\n",
       "  'type': 'sbend'},\n",
       " {'name': 'D2', 'L': 1.0, 'type': 'drift'},\n",
       " {'name': 'B3',\n",
       "  'L': 0.5002,\n",
       "  'angle': -0.04830000000000002,\n",
       "  'E1': 0,\n",
       "  'E2': 0,\n",
       "  'type': 'sbend'},\n",
       " {'name': 'D3', 'L': 5.0058, 'type': 'drift'},\n",
       " {'name': 'B4',\n",
       "  'L': 0.5002,\n",
       "  'angle': 0.04830000000000002,\n",
       "  'E1': 0,\n",
       "  'E2': 0,\n",
       "  'type': 'sbend'},\n",
       " {'name': 'DF', 'L': 0.2, 'type': 'drift'}]"
      ]
     },
     "execution_count": 9,
     "metadata": {},
     "output_type": "execute_result"
    }
   ],
   "source": [
    "pydfcsr_eles_from_tao(tao)"
   ]
  }
 ],
 "metadata": {
  "kernelspec": {
   "display_name": "Python 3 (ipykernel)",
   "language": "python",
   "name": "python3"
  },
  "language_info": {
   "codemirror_mode": {
    "name": "ipython",
    "version": 3
   },
   "file_extension": ".py",
   "mimetype": "text/x-python",
   "name": "python",
   "nbconvert_exporter": "python",
   "pygments_lexer": "ipython3",
   "version": "3.12.3"
  }
 },
 "nbformat": 4,
 "nbformat_minor": 5
}
